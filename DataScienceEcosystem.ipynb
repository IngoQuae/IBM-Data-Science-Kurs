{
 "cells": [
  {
   "cell_type": "markdown",
   "id": "3786ba8d-8f6b-47b6-9a97-c61209f58737",
   "metadata": {},
   "source": [
    "# Data Science Tools and Ecosystem"
   ]
  },
  {
   "cell_type": "markdown",
   "id": "5a01ddc7-dfab-4a7a-8617-a7ea84e7b124",
   "metadata": {},
   "source": [
    "## Author\n",
    "Ingo Quäschning"
   ]
  },
  {
   "cell_type": "markdown",
   "id": "7fec0e66-92db-48b4-8a97-ffc226f76090",
   "metadata": {},
   "source": [
    "## Introduction\n",
    "\n",
    "In this notebook, Data Science Tools and Ecosystem are summarized.\n"
   ]
  },
  {
   "cell_type": "markdown",
   "id": "6d1fa344-c261-40cc-b21c-c0a9c0854d39",
   "metadata": {},
   "source": [
    "**Objectives:**\n",
    "\n",
    "- Understand basic arithmetic operations in Python\n",
    "- Learn how to convert time units (minutes to hours) using Python\n",
    "- List popular languages for Data Science\n",
    "- Implement and execute code cells in a Jupyter notebook\n",
    "- Create and format markdown cells for better documentation\n",
    "\n"
   ]
  },
  {
   "cell_type": "markdown",
   "id": "a2db6f83-d832-4e2a-82e3-ec275354340e",
   "metadata": {
    "tags": []
   },
   "source": [
    "## Data Science Languages\n",
    "\n",
    "Some of the popular languages that Data Scientists use Are:\n",
    "\n",
    "1. Python\n",
    "2. R\n",
    "3. SQL\n"
   ]
  },
  {
   "cell_type": "markdown",
   "id": "dff02a16-d1a4-45b8-9ba3-ebd8987a4de3",
   "metadata": {
    "tags": []
   },
   "source": [
    "## Data Science Languages\n",
    "\n",
    "Some of the Commonly ussed libararies used by Data Scientists include:\n",
    "\n",
    "1. pandas - provides data structures and funktion to manipulate data\n",
    "2. NumPY - numerical computing\n",
    "3. scikit-learn - tools for datat minning and maschine learning\n"
   ]
  },
  {
   "cell_type": "markdown",
   "id": "13b01ea4-7cd3-4f8e-8aad-1b9e56beda8b",
   "metadata": {},
   "source": [
    "## Data Sience Tools\n",
    "| Data Science Tool  |\n",
    "|--------------------|\n",
    "|Jupiter Notebook    |\n",
    "|RStudio             |\n",
    "|Apache Zeppelin.    |\n"
   ]
  },
  {
   "cell_type": "markdown",
   "id": "b3e59287-e99d-42c3-b821-c5d48d09710b",
   "metadata": {},
   "source": [
    "## Arithmetic Operations in Python\n",
    "\n",
    "### Below are a few examples of evaluating arithmetic expressions in Python.\n",
    "\n",
    "\n",
    "- **Addition (`+`)**\n",
    "  Adds two numbers together.\n",
    "  Example: `5 + 3` results in `8`.\n",
    "  \n",
    "  \n",
    "- **Subtraction (`-`)**\n",
    "  Subtracts the second number from the first.\n",
    "  Example: `10 - 4` results in `6`.\n",
    "  \n",
    "  \n",
    "- **Multiplication (`*`)**\n",
    "  Multiplies two numbers.\n",
    "  Example: `7 * 3` results in `21`.\n",
    "  \n",
    "  \n",
    "- **Division (`/`)**\n",
    "  Divides the first number by the second.\n",
    "  Example: `20 / 4` results in `5.0`.\n",
    "  \n",
    "  \n",
    "- **Floor Division (`//`)**\n",
    "  Divides the first number by the second and rounds down to the nearest integer.\n",
    "  Example: `20 // 3` results in `6`.\n",
    "  \n",
    "  \n",
    "- **Modulus (`%`)**\n",
    "  Returns the remainder of the division of the first number by the second.\n",
    "  Example: `20 % 3` results in `2`.\n",
    "  \n",
    "  \n",
    "- **Exponentiation (`**`)**\n",
    "  Raises the first number to the power of the second number.\n",
    "  Example: `2 ** 3` results in `8`.\n",
    "\n"
   ]
  },
  {
   "cell_type": "code",
   "execution_count": 26,
   "id": "df5ec245-6caa-4703-a929-41834f97c0ed",
   "metadata": {
    "tags": []
   },
   "outputs": [
    {
     "data": {
      "text/plain": [
       "17"
      ]
     },
     "execution_count": 26,
     "metadata": {},
     "output_type": "execute_result"
    }
   ],
   "source": [
    "# This is a simple arithmetic expression to multiply then add integers\n",
    "multiply = (3 * 4) + 5\n",
    "multiply\n",
    "\n"
   ]
  },
  {
   "cell_type": "code",
   "execution_count": 28,
   "id": "4986e502-98a7-4e7f-aced-90902015f82b",
   "metadata": {
    "tags": []
   },
   "outputs": [
    {
     "data": {
      "text/plain": [
       "3.3333333333333335"
      ]
     },
     "execution_count": 28,
     "metadata": {},
     "output_type": "execute_result"
    }
   ],
   "source": [
    "# This will convert 200 minutes to hours by dividing by 60\n",
    "hours = 200 / 60\n",
    "hours\n"
   ]
  },
  {
   "cell_type": "code",
   "execution_count": null,
   "id": "9711c5c3-fe2a-4a64-a708-78f6d56d9e29",
   "metadata": {},
   "outputs": [],
   "source": []
  }
 ],
 "metadata": {
  "kernelspec": {
   "display_name": "Python 3 (ipykernel)",
   "language": "python",
   "name": "python3"
  },
  "language_info": {
   "codemirror_mode": {
    "name": "ipython",
    "version": 3
   },
   "file_extension": ".py",
   "mimetype": "text/x-python",
   "name": "python",
   "nbconvert_exporter": "python",
   "pygments_lexer": "ipython3",
   "version": "3.11.5"
  }
 },
 "nbformat": 4,
 "nbformat_minor": 5
}
